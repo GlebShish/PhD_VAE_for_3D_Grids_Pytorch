{
 "cells": [
  {
   "cell_type": "code",
   "execution_count": 1,
   "metadata": {},
   "outputs": [],
   "source": [
    "import os\n",
    "import torch\n",
    "import torch.utils.data\n",
    "from torch import nn, optim\n",
    "from torch.autograd import Variable\n",
    "from torch.nn import functional as F\n",
    "from torchvision import datasets, transforms\n",
    "from torch.utils.data import DataLoader, Dataset\n",
    "\n",
    "\n",
    "import matplotlib.pyplot as plt\n",
    "import matplotlib.mlab as mlab\n",
    "import math\n",
    "import numpy as np # linear algebra\n",
    "import pandas as pd # data processing"
   ]
  },
  {
   "cell_type": "code",
   "execution_count": 2,
   "metadata": {},
   "outputs": [
    {
     "name": "stdout",
     "output_type": "stream",
     "text": [
      "1.1.0\n"
     ]
    }
   ],
   "source": [
    "print(torch.__version__)"
   ]
  },
  {
   "cell_type": "code",
   "execution_count": 3,
   "metadata": {},
   "outputs": [
    {
     "data": {
      "text/plain": [
       "'GeForce GTX 1060 3GB'"
      ]
     },
     "execution_count": 3,
     "metadata": {},
     "output_type": "execute_result"
    }
   ],
   "source": [
    "device = torch.device(\"cuda:0\" if torch.cuda.is_available() else \"cpu\")\n",
    "torch.cuda.get_device_name(0)"
   ]
  },
  {
   "cell_type": "code",
   "execution_count": 4,
   "metadata": {},
   "outputs": [
    {
     "data": {
      "text/plain": [
       "'\\ndata = torch.eye(3)\\ndata = data.to(device)\\nprint(data.get_device())\\n'"
      ]
     },
     "execution_count": 4,
     "metadata": {},
     "output_type": "execute_result"
    }
   ],
   "source": [
    "#try give data to device (GPU)\n",
    "'''\n",
    "data = torch.eye(3)\n",
    "data = data.to(device)\n",
    "print(data.get_device())\n",
    "'''"
   ]
  },
  {
   "cell_type": "code",
   "execution_count": 5,
   "metadata": {},
   "outputs": [],
   "source": [
    "class GridDataset(Dataset):\n",
    "    \"\"\"Grids dataset.\"\"\"\n",
    "    \n",
    "    def __init__(self, csv_file, csv_file_labels, transform=None):\n",
    "        '''\n",
    "        Args:\n",
    "            csv_file (string): Path to the .csv file which contains pd.DataFrames in 1D.\n",
    "            csv_file_labels (string): Path to the .csv file which contains labels of grids.\n",
    "            transform (callable, optional): Optional transform to be applied on a sample.\n",
    "            \n",
    "        '''\n",
    "        \n",
    "        self.data_set = pd.read_csv(csv_file)\n",
    "        self.label = pd.read_csv(csv_file_labels)\n",
    "        self.transform = transform\n",
    "        \n",
    "    \n",
    "    def __len__(self):\n",
    "        return len(self.data_set.columns) #returns the size of the dataset (nomber of columnss)\n",
    "    \n",
    "    def __getitem__(self, idx):\n",
    "        grid = self.data_set.iloc[:, idx].values\n",
    "        grid = grid.reshape(1, -1)\n",
    "        grid_name = self.data_set.columns[idx]\n",
    "        label = self.label.iloc[:, idx].values\n",
    "        \n",
    "        \n",
    "        if self.transform:\n",
    "            grid = self.transform(grid)\n",
    "            label = torch.from_numpy(label)\n",
    "            #noise = np.random.normal(loc=0, scale=0.1)\n",
    "            if label == 0:\n",
    "                #grid = grid.new_full((24, 18, 15), 0+noise)\n",
    "                grid = grid * 10\n",
    "            else:\n",
    "                #grid = grid.new_full((24, 18, 15), 1+noise)\n",
    "                grid = grid / 10\n",
    "            grid = grid.to(device)\n",
    "            label = label.to(device)\n",
    "        sample = {'grid': grid, 'grid_name': grid_name, 'label': label}\n",
    "        \n",
    "        ##return grid, grid_name, label\n",
    "        return sample \n",
    "    \n",
    "    def stats(self):\n",
    "        '''mean and std of entire dataset'''\n",
    "        mean = self.data_set.values.mean()\n",
    "        std = self.data_set.values.std()\n",
    "        stats = {'mean': mean, 'std':std}\n",
    "        return stats"
   ]
  },
  {
   "cell_type": "code",
   "execution_count": 6,
   "metadata": {},
   "outputs": [],
   "source": [
    "#https://pytorch.org/tutorials/beginner/data_loading_tutorial.html\n",
    "import pandas as pd\n",
    "import numpy as np\n",
    "        \n",
    "class RescaleTo3D(object):\n",
    "    \"\"\"Rescale the grid to a given size.\n",
    "\n",
    "    Args:\n",
    "        i_max - dimension in X\n",
    "        j_max - dimension in Y\n",
    "        k_max - dimension in Z\n",
    "\n",
    "    Return:\n",
    "        ThreeDim - 3d np.array  \n",
    "        \n",
    "    \"\"\"    \n",
    "    \n",
    "    def __init__(self, i_max, j_max, k_max):\n",
    "        self.i_max = i_max\n",
    "        self.j_max = j_max\n",
    "        self.k_max = k_max\n",
    "        \n",
    "    def __call__(self, sample):\n",
    "    \n",
    "        #приводим массив к 3D размерности грида.    \n",
    "        Three_Dim = np.array(np.zeros((self.i_max, self.j_max, self.k_max)))        \n",
    "        i = 0\n",
    "        j = 0\n",
    "        k = 0\n",
    "        z = 0\n",
    "        while k <= self.k_max-1:\n",
    "            while j <= self.j_max-1:\n",
    "                while i <= self.i_max-1:\n",
    "                    Three_Dim[i, j ,k] = sample[:,z]\n",
    "                    i += 1\n",
    "                    z += 1\n",
    "                i = 0\n",
    "                j += 1\n",
    "            j = 0\n",
    "            k += 1\n",
    "\n",
    "        return (Three_Dim)     \n",
    "\n",
    "class ToTensor(object):\n",
    "    \"\"\"Convert ndarrays in sample to Tensors.\"\"\"\n",
    "    def __call__(self, sample):\n",
    "        return (torch.from_numpy(sample))\n",
    "\n",
    "class Normalize(object):\n",
    "    '''Normalize tensor to [-1,1]. made it by myself, cause unable to use transforms.Normalize. Do not why'''\n",
    "    def __call__(self, sample):\n",
    "        sample =  sample.sub_(train_dataset.stats()['mean']).div_(train_dataset.stats()['std'])\n",
    "        return(sample)"
   ]
  },
  {
   "cell_type": "code",
   "execution_count": 7,
   "metadata": {},
   "outputs": [],
   "source": [
    "#let's create dataset for grids\n",
    "path  = \"../DATA/_PERMX.csv\" #path to dataset\n",
    "path_labels  = \"../DATA/_PERMX_labels.csv\" #path to dataset\n",
    "\n",
    "train_dataset = GridDataset(path,\n",
    "                            path_labels,\n",
    "                            transform=transforms.Compose([RescaleTo3D(24, 18, 15),\n",
    "                                                        ToTensor(),\n",
    "                                                         Normalize()]))\n",
    "\n",
    "#validation_dataset = GridDataset(path,\n",
    "#                            path_labels,\n",
    "#                            transform=transforms.Compose([RescaleTo3D(24, 18, 15),\n",
    "#                                                        ToTensor()]))\n"
   ]
  },
  {
   "cell_type": "code",
   "execution_count": 8,
   "metadata": {},
   "outputs": [
    {
     "name": "stdout",
     "output_type": "stream",
     "text": [
      "2000\n"
     ]
    }
   ],
   "source": [
    "print(train_dataset.__len__())"
   ]
  },
  {
   "cell_type": "code",
   "execution_count": 9,
   "metadata": {},
   "outputs": [],
   "source": [
    "#Build a Convolutional Network class with two Convolutional layers and one fully connected layer\n",
    "\n",
    "class Grids_Conv3d(nn.Module):\n",
    "    def __init__(self, out_1=32, out_2=64):\n",
    "        super(Grids_Conv3d, self).__init__()\n",
    "        self.layer1 = nn.Sequential(\n",
    "            nn.Conv3d(in_channels=1, out_channels=out_1, kernel_size=5, stride=1, padding=2),\n",
    "            nn.ReLU(),\n",
    "            nn.MaxPool3d(kernel_size=2, stride=2))\n",
    "        self.layer2 = nn.Sequential(\n",
    "            nn.Conv3d(in_channels=out_1, out_channels=out_2, kernel_size=5, stride=1, padding=2),\n",
    "            nn.ReLU(),\n",
    "            nn.MaxPool3d(kernel_size=2, stride=2))\n",
    "        self.drop_out = nn.Dropout()\n",
    "        self.fc1 = nn.Linear(4608, 1000)\n",
    "        self.fc2 = nn.Linear(1000, 2) #number of classes\n",
    "        \n",
    "    def forward(self, x):\n",
    "        out = self.layer1(x)\n",
    "        out = self.layer2(out)\n",
    "        out = out.view(out.size(0), -1)\n",
    "        out = self.drop_out(out)\n",
    "        out = self.fc1(out)\n",
    "        out = self.fc2(out)\n",
    "        return out"
   ]
  },
  {
   "cell_type": "code",
   "execution_count": 10,
   "metadata": {},
   "outputs": [
    {
     "name": "stdout",
     "output_type": "stream",
     "text": [
      "Print the model:\n",
      "  Grids_Conv3d(\n",
      "  (layer1): Sequential(\n",
      "    (0): Conv3d(1, 32, kernel_size=(5, 5, 5), stride=(1, 1, 1), padding=(2, 2, 2))\n",
      "    (1): ReLU()\n",
      "    (2): MaxPool3d(kernel_size=2, stride=2, padding=0, dilation=1, ceil_mode=False)\n",
      "  )\n",
      "  (layer2): Sequential(\n",
      "    (0): Conv3d(32, 64, kernel_size=(5, 5, 5), stride=(1, 1, 1), padding=(2, 2, 2))\n",
      "    (1): ReLU()\n",
      "    (2): MaxPool3d(kernel_size=2, stride=2, padding=0, dilation=1, ceil_mode=False)\n",
      "  )\n",
      "  (drop_out): Dropout(p=0.5)\n",
      "  (fc1): Linear(in_features=4608, out_features=1000, bias=True)\n",
      "  (fc2): Linear(in_features=1000, out_features=2, bias=True)\n",
      ")\n"
     ]
    }
   ],
   "source": [
    "# Create the model object using CNN class\n",
    "\n",
    "model = Grids_Conv3d(out_1=32, out_2=64)\n",
    "model = model.to(device)\n",
    "print(\"Print the model:\\n \", model)"
   ]
  },
  {
   "cell_type": "code",
   "execution_count": 11,
   "metadata": {},
   "outputs": [],
   "source": [
    "#Define the loss function, the optimizer and the dataset loader\n",
    "\n",
    "criterion = nn.CrossEntropyLoss()\n",
    "learning_rate = 0.01\n",
    "optimizer = torch.optim.Adam(model.parameters(), lr=learning_rate)\n",
    "train_loader = DataLoader(dataset=train_dataset, batch_size=100, shuffle=True)\n",
    "#validation_loader = DataLoader(dataset=validation_dataset, batch_size=50, shuffle=False)"
   ]
  },
  {
   "cell_type": "code",
   "execution_count": 12,
   "metadata": {},
   "outputs": [
    {
     "name": "stdout",
     "output_type": "stream",
     "text": [
      "Epoch [1/50], Step [20/20], Loss: 0.5072, Accuracy: 54.00%\n",
      "Epoch [2/50], Step [20/20], Loss: 0.1886, Accuracy: 95.00%\n",
      "Epoch [3/50], Step [20/20], Loss: 0.7757, Accuracy: 48.00%\n",
      "Epoch [4/50], Step [20/20], Loss: 0.6976, Accuracy: 51.00%\n",
      "Epoch [5/50], Step [20/20], Loss: 0.6881, Accuracy: 56.00%\n",
      "Epoch [6/50], Step [20/20], Loss: 0.6925, Accuracy: 52.00%\n",
      "Epoch [7/50], Step [20/20], Loss: 0.7007, Accuracy: 45.00%\n",
      "Epoch [8/50], Step [20/20], Loss: 0.6947, Accuracy: 47.00%\n",
      "Epoch [9/50], Step [20/20], Loss: 0.7186, Accuracy: 48.00%\n",
      "Epoch [10/50], Step [20/20], Loss: 0.6964, Accuracy: 48.00%\n",
      "Epoch [11/50], Step [20/20], Loss: 0.6861, Accuracy: 56.00%\n",
      "Epoch [12/50], Step [20/20], Loss: 0.7201, Accuracy: 48.00%\n",
      "Epoch [13/50], Step [20/20], Loss: 0.7103, Accuracy: 49.00%\n",
      "Epoch [14/50], Step [20/20], Loss: 0.7400, Accuracy: 41.00%\n",
      "Epoch [15/50], Step [20/20], Loss: 0.6972, Accuracy: 51.00%\n",
      "Epoch [16/50], Step [20/20], Loss: 0.7058, Accuracy: 47.00%\n",
      "Epoch [17/50], Step [20/20], Loss: 0.6927, Accuracy: 52.00%\n",
      "Epoch [18/50], Step [20/20], Loss: 0.6914, Accuracy: 57.00%\n",
      "Epoch [19/50], Step [20/20], Loss: 0.7161, Accuracy: 50.00%\n",
      "Epoch [20/50], Step [20/20], Loss: 0.6996, Accuracy: 49.00%\n",
      "Epoch [21/50], Step [20/20], Loss: 0.6992, Accuracy: 46.00%\n",
      "Epoch [22/50], Step [20/20], Loss: 0.7012, Accuracy: 45.00%\n",
      "Epoch [23/50], Step [20/20], Loss: 0.7042, Accuracy: 55.00%\n",
      "Epoch [24/50], Step [20/20], Loss: 0.6930, Accuracy: 51.00%\n",
      "Epoch [25/50], Step [20/20], Loss: 0.6940, Accuracy: 50.00%\n",
      "Epoch [26/50], Step [20/20], Loss: 0.7070, Accuracy: 46.00%\n",
      "Epoch [27/50], Step [20/20], Loss: 0.7028, Accuracy: 49.00%\n",
      "Epoch [28/50], Step [20/20], Loss: 0.6879, Accuracy: 57.00%\n",
      "Epoch [29/50], Step [20/20], Loss: 0.6930, Accuracy: 51.00%\n",
      "Epoch [30/50], Step [20/20], Loss: 0.6840, Accuracy: 57.00%\n",
      "Epoch [31/50], Step [20/20], Loss: 0.6734, Accuracy: 60.00%\n",
      "Epoch [32/50], Step [20/20], Loss: 0.6934, Accuracy: 50.00%\n",
      "Epoch [33/50], Step [20/20], Loss: 0.6952, Accuracy: 48.00%\n",
      "Epoch [34/50], Step [20/20], Loss: 0.7082, Accuracy: 44.00%\n",
      "Epoch [35/50], Step [20/20], Loss: 0.7125, Accuracy: 50.00%\n",
      "Epoch [36/50], Step [20/20], Loss: 0.7286, Accuracy: 48.00%\n",
      "Epoch [37/50], Step [20/20], Loss: 0.6933, Accuracy: 50.00%\n",
      "Epoch [38/50], Step [20/20], Loss: 0.7263, Accuracy: 54.00%\n",
      "Epoch [39/50], Step [20/20], Loss: 0.6915, Accuracy: 53.00%\n",
      "Epoch [40/50], Step [20/20], Loss: 0.6953, Accuracy: 49.00%\n",
      "Epoch [41/50], Step [20/20], Loss: 0.6952, Accuracy: 44.00%\n",
      "Epoch [42/50], Step [20/20], Loss: 0.6936, Accuracy: 46.00%\n",
      "Epoch [43/50], Step [20/20], Loss: 0.7058, Accuracy: 46.00%\n",
      "Epoch [44/50], Step [20/20], Loss: 0.6917, Accuracy: 55.00%\n",
      "Epoch [45/50], Step [20/20], Loss: 0.7110, Accuracy: 44.00%\n",
      "Epoch [46/50], Step [20/20], Loss: 0.7093, Accuracy: 37.00%\n",
      "Epoch [47/50], Step [20/20], Loss: 0.6885, Accuracy: 55.00%\n",
      "Epoch [48/50], Step [20/20], Loss: 0.7025, Accuracy: 49.00%\n",
      "Epoch [49/50], Step [20/20], Loss: 0.6988, Accuracy: 46.00%\n",
      "Epoch [50/50], Step [20/20], Loss: 0.7007, Accuracy: 48.00%\n"
     ]
    }
   ],
   "source": [
    "#Train the model and determine validation accuracy technically test accuracy\n",
    "\n",
    "n_epochs = 50\n",
    "loss_list = []\n",
    "accuracy_list = []\n",
    "total_step = len(train_loader)\n",
    "model.train()\n",
    "\n",
    "def train(epochs):\n",
    "    for epoch in range(epochs):\n",
    "        for batch_idx, sample in enumerate(train_loader):\n",
    "            optimizer.zero_grad()\n",
    "            grid = sample['grid'].unsqueeze(1).float()\n",
    "            z = model(grid)\n",
    "            label = sample['label'].view(-1)\n",
    "            loss = criterion(z, label)\n",
    "            loss_list.append(loss.item())\n",
    "            loss.backward()\n",
    "            optimizer.step()\n",
    "            \n",
    "            total = label.size(0)\n",
    "            _, yhat = torch.max(z.data, 1)\n",
    "            correct = (yhat == label).sum().item()\n",
    "            accuracy_list.append(correct / total)\n",
    "            \n",
    "\n",
    "        \n",
    "        if (batch_idx+1) % 10 == 0:\n",
    "            print('Epoch [{}/{}], Step [{}/{}], Loss: {:.4f}, Accuracy: {:.2f}%'\n",
    "                  .format(epoch + 1, epochs, batch_idx + 1, total_step, loss.item(),\n",
    "                          (correct / total) * 100))\n",
    "            \n",
    "            \n",
    "train(n_epochs)"
   ]
  },
  {
   "cell_type": "code",
   "execution_count": 13,
   "metadata": {},
   "outputs": [
    {
     "data": {
      "image/png": "[encoded data removed]",
      "text/plain": [
       "<Figure size 432x288 with 2 Axes>"
      ]
     },
     "metadata": {
      "needs_background": "light"
     },
     "output_type": "display_data"
    }
   ],
   "source": [
    "# Plot the loss and accuracy\n",
    "\n",
    "fig, ax1 = plt.subplots()\n",
    "color = 'tab:red'\n",
    "ax1.plot(loss_list, color=color)\n",
    "ax1.set_xlabel('epoch', color=color)\n",
    "ax1.set_ylabel('total loss', color=color)\n",
    "ax1.tick_params(axis='y', color=color)\n",
    "    \n",
    "ax2 = ax1.twinx()  \n",
    "color = 'tab:blue'\n",
    "ax2.set_ylabel('accuracy', color=color)  \n",
    "ax2.plot( accuracy_list, color=color)\n",
    "ax2.tick_params(axis='y', color=color)\n",
    "fig.tight_layout()"
   ]
  },
  {
   "cell_type": "code",
   "execution_count": 14,
   "metadata": {},
   "outputs": [
    {
     "name": "stdout",
     "output_type": "stream",
     "text": [
      "cleared\n"
     ]
    }
   ],
   "source": [
    "#clear cache\n",
    "if torch.cuda.is_available():\n",
    "    torch.cuda.empty_cache()\n",
    "    print ('cleared')\n",
    "    \n",
    "#torch.cuda.memory_cached() # check memore cached"
   ]
  },
  {
   "cell_type": "code",
   "execution_count": 15,
   "metadata": {},
   "outputs": [],
   "source": [
    "validation_dataset = GridDataset(path,\n",
    "                            path_labels,\n",
    "                            transform=transforms.Compose([RescaleTo3D(24, 18, 15),\n",
    "                                                        ToTensor(),\n",
    "                                                        Normalize()]))"
   ]
  },
  {
   "cell_type": "code",
   "execution_count": null,
   "metadata": {},
   "outputs": [],
   "source": [
    "validation_loader = DataLoader(dataset=validation_dataset, batch_size=50, shuffle=True)\n",
    "\n",
    "model.eval()\n",
    "with torch.no_grad():\n",
    "    val_correct = 0\n",
    "    val_total = 0\n",
    "    for batch_idx, val_sample in enumerate(validation_loader):\n",
    "        val_grid = val_sample['grid'].unsqueeze(1).float()\n",
    "        val_z = model(val_grid)\n",
    "        val_label = val_sample['label'].view(-1)\n",
    "            \n",
    "        val_total += val_label.size(0)\n",
    "        _, val_yhat = torch.max(val_z.data, 1)\n",
    "        val_correct += (val_yhat == val_label).sum().item()\n",
    "        #print('prediction', val_yhat)\n",
    "        #print('truth', val_label)\n",
    "    print('Test Accuracy of the model on the 2000 test grids: {} %'.format((val_correct / val_total) * 100))"
   ]
  },
  {
   "cell_type": "code",
   "execution_count": null,
   "metadata": {},
   "outputs": [],
   "source": []
  }
 ],
 "metadata": {
  "kernelspec": {
   "display_name": "Python 3",
   "language": "python",
   "name": "python3"
  },
  "language_info": {
   "codemirror_mode": {
    "name": "ipython",
    "version": 3
   },
   "file_extension": ".py",
   "mimetype": "text/x-python",
   "name": "python",
   "nbconvert_exporter": "python",
   "pygments_lexer": "ipython3",
   "version": "3.7.3"
  }
 },
 "nbformat": 4,
 "nbformat_minor": 4
}
